{
 "cells": [
  {
   "cell_type": "code",
   "execution_count": 43,
   "metadata": {},
   "outputs": [
    {
     "name": "stdout",
     "output_type": "stream",
     "text": [
      "第幾回？1\n",
      "日期？2\n",
      "標題？3\n",
      "PDF 名稱,需包含.pdf（ex. 自律学習実践研究会2018-1ポスター.pdf）4\n",
      "是否有PPT可供下載？（Y/N）Y\n",
      "PPT 作者？5\n",
      "PPT 名稱,需包含.pdf（.pptx）（ex. 実践１-1-阿部.pdf）6\n",
      "是否有PPT可供下載？（Y/N）N\n"
     ]
    }
   ],
   "source": [
    "number = input('第幾回？')\n",
    "date = input('日期？')\n",
    "title = input('標題？')\n",
    "pdf = input('PDF 名稱,需包含.pdf（ex. 自律学習実践研究会2018-1ポスター.pdf）')\n",
    "c = input('是否有PPT可供下載？（Y/N）')\n",
    "download = []\n",
    "while(c != 'N'):\n",
    "    name = input('PPT 作者？')\n",
    "    link = input('PPT 名稱,需包含.pdf（.pptx）（ex. 実践１-1-阿部.pdf）')\n",
    "    download.append({'name': name, 'link': link})\n",
    "    c = input('是否有PPT可供下載？（Y/N）')"
   ]
  },
  {
   "cell_type": "code",
   "execution_count": 44,
   "metadata": {},
   "outputs": [],
   "source": [
    "new = {\n",
    "    'number': number,\n",
    "    'date': date,\n",
    "    'title': title,\n",
    "    'pdf': pdf,\n",
    "    'download': download\n",
    "}"
   ]
  },
  {
   "cell_type": "code",
   "execution_count": 46,
   "metadata": {},
   "outputs": [],
   "source": [
    "import json, codecs"
   ]
  },
  {
   "cell_type": "code",
   "execution_count": 47,
   "metadata": {},
   "outputs": [],
   "source": [
    "with open('../data/page7.json' , 'r') as reader:\n",
    "    jf = json.loads(reader.read())"
   ]
  },
  {
   "cell_type": "code",
   "execution_count": 48,
   "metadata": {},
   "outputs": [],
   "source": [
    "jf.append(new)"
   ]
  },
  {
   "cell_type": "code",
   "execution_count": 49,
   "metadata": {},
   "outputs": [
    {
     "name": "stdout",
     "output_type": "stream",
     "text": [
      "[{'number': '1', 'date': '2018/9/29', 'title': '第一回 自律学習実践研究会', 'pdf': './download/自律学習実践研究会2018-1ポスター.pdf', 'download': [{'name': '1-1 阿部公彥', 'link': './download/実践１-1-阿部.pdf'}, {'name': '1-2 張瑜珊', 'link': './download/実践１-2-張.pdf'}, {'name': '1-3 許筠靈', 'link': './download/実践１-3-許.pdf'}]}, {'number': '2', 'date': '2018/10/27', 'title': '第二回 自律学習実践研究会', 'pdf': './download/自律学習実践研究会2018-2ポスター.pdf', 'download': [{'name': '2-1 許均瑞', 'link': './download/実践2-1-許.pdf'}, {'name': '2-2 阿部公彥', 'link': './download/実践２-2-阿部.pdf'}]}, {'number': '3', 'date': '2018/11/17', 'title': '第三回 自律学習実践研究会', 'pdf': './download/自律学習実践研究会2018-3ポスター.pdf', 'download': [{'name': '3-1 武藤泰子', 'link': './download/実践3-1-武藤.pdf'}, {'name': '3-2 工藤節子', 'link': './download/実践3-2-工藤.pdf'}]}, {'number': '4', 'date': '2018/12/15', 'title': '第四回 自律学習実践研究会', 'pdf': './download/自律学習実践研究会2018-4ポスタ-.pdf', 'download': [{'name': '4-1 林恒立', 'link': './download/20181215 林恒立.pdf'}]}, {'number': '5', 'date': '2019/1/15', 'title': '第五回 自律学習実践研究会', 'pdf': './download/自律学習実践研究会2018-5ポスター.pdf', 'download': [{'name': '5-1 武藤泰子', 'link': './download/20190115武藤泰子.pptx'}]}, {'number': '1', 'date': '2', 'title': '3', 'pdf': '4', 'download': [{'name': '5', 'link': '6'}]}]\n"
     ]
    }
   ],
   "source": [
    "print(jf)"
   ]
  },
  {
   "cell_type": "code",
   "execution_count": 30,
   "metadata": {},
   "outputs": [],
   "source": [
    "with open('../data/page7.json', 'wb') as outfile:\n",
    "    json.dump(jf, codecs.getwriter('utf-8')(outfile), ensure_ascii=False)"
   ]
  }
 ],
 "metadata": {
  "kernelspec": {
   "display_name": "Python 3",
   "language": "python",
   "name": "python3"
  },
  "language_info": {
   "codemirror_mode": {
    "name": "ipython",
    "version": 3
   },
   "file_extension": ".py",
   "mimetype": "text/x-python",
   "name": "python",
   "nbconvert_exporter": "python",
   "pygments_lexer": "ipython3",
   "version": "3.6.5"
  }
 },
 "nbformat": 4,
 "nbformat_minor": 2
}
